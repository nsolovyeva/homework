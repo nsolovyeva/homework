{
 "cells": [
  {
   "cell_type": "code",
   "execution_count": 3,
   "metadata": {},
   "outputs": [],
   "source": [
    "from datetime import datetime, timedelta"
   ]
  },
  {
   "cell_type": "code",
   "execution_count": 4,
   "metadata": {},
   "outputs": [],
   "source": [
    "# Задание 1\n",
    "# Перевожу даты обратно в string для вывода. Можно этого не делать\n",
    "def timerange(startdate, enddate):\n",
    "    datelist = []\n",
    "    start_dt=datetime.strptime(startdate,'%Y-%m-%d')\n",
    "    end_dt=datetime.strptime(enddate,'%Y-%m-%d')\n",
    "    running_dt = start_dt\n",
    "    while running_dt <= end_dt:\n",
    "        datelist.append(datetime.strftime(running_dt, '%Y-%m-%d'))\n",
    "        running_dt+=timedelta(days=1)\n",
    "    return (datelist)\n",
    "   "
   ]
  },
  {
   "cell_type": "code",
   "execution_count": 5,
   "metadata": {},
   "outputs": [
    {
     "data": {
      "text/plain": [
       "['2018-01-01',\n",
       " '2018-01-02',\n",
       " '2018-01-03',\n",
       " '2018-01-04',\n",
       " '2018-01-05',\n",
       " '2018-01-06',\n",
       " '2018-01-07',\n",
       " '2018-01-08',\n",
       " '2018-01-09',\n",
       " '2018-01-10',\n",
       " '2018-01-11',\n",
       " '2018-01-12',\n",
       " '2018-01-13',\n",
       " '2018-01-14',\n",
       " '2018-01-15',\n",
       " '2018-01-16',\n",
       " '2018-01-17',\n",
       " '2018-01-18',\n",
       " '2018-01-19',\n",
       " '2018-01-20',\n",
       " '2018-01-21',\n",
       " '2018-01-22',\n",
       " '2018-01-23',\n",
       " '2018-01-24',\n",
       " '2018-01-25',\n",
       " '2018-01-26',\n",
       " '2018-01-27',\n",
       " '2018-01-28',\n",
       " '2018-01-29',\n",
       " '2018-01-30',\n",
       " '2018-01-31',\n",
       " '2018-02-01',\n",
       " '2018-02-02',\n",
       " '2018-02-03',\n",
       " '2018-02-04',\n",
       " '2018-02-05',\n",
       " '2018-02-06',\n",
       " '2018-02-07',\n",
       " '2018-02-08',\n",
       " '2018-02-09',\n",
       " '2018-02-10',\n",
       " '2018-02-11',\n",
       " '2018-02-12',\n",
       " '2018-02-13',\n",
       " '2018-02-14',\n",
       " '2018-02-15']"
      ]
     },
     "execution_count": 5,
     "metadata": {},
     "output_type": "execute_result"
    }
   ],
   "source": [
    "startdate='2018-01-01'\n",
    "enddate='2018-02-15'\n",
    "timerange(startdate, enddate)"
   ]
  },
  {
   "cell_type": "code",
   "execution_count": 6,
   "metadata": {},
   "outputs": [],
   "source": [
    "# Задание 2\n",
    "def datevalid (date):\n",
    "    result=None\n",
    "    try:\n",
    "        result = datetime.strptime(date, '%Y-%m-%d')\n",
    "    except:\n",
    "        pass\n",
    "\n",
    "    if result is None:\n",
    "        return False\n",
    "    else:\n",
    "        return True\n"
   ]
  },
  {
   "cell_type": "code",
   "execution_count": 7,
   "metadata": {},
   "outputs": [],
   "source": [
    "def bothdatesvalid(startdate, enddate):\n",
    "    if datevalid(startdate) and datevalid(enddate):\n",
    "        if enddate>startdate:\n",
    "            return True\n",
    "        else:\n",
    "            return False\n",
    "        "
   ]
  },
  {
   "cell_type": "code",
   "execution_count": 8,
   "metadata": {},
   "outputs": [],
   "source": [
    "def timerange(startdate, enddate):\n",
    "    if not bothdatesvalid(startdate, enddate):\n",
    "        return ('Wrong dates')\n",
    "    datelist = []\n",
    "    start_dt=datetime.strptime(startdate,'%Y-%m-%d')\n",
    "    end_dt=datetime.strptime(enddate,'%Y-%m-%d')\n",
    "    running_dt = start_dt\n",
    "    while running_dt <= end_dt:\n",
    "        datelist.append(datetime.strftime(running_dt, '%Y-%m-%d'))\n",
    "        running_dt+=timedelta(days=1)\n",
    "    return (datelist)"
   ]
  },
  {
   "cell_type": "code",
   "execution_count": 9,
   "metadata": {},
   "outputs": [
    {
     "data": {
      "text/plain": [
       "'Wrong dates'"
      ]
     },
     "execution_count": 9,
     "metadata": {},
     "output_type": "execute_result"
    }
   ],
   "source": [
    "startdate='2018-24-01'\n",
    "enddate='2018-02-15'\n",
    "timerange(startdate, enddate)"
   ]
  },
  {
   "cell_type": "code",
   "execution_count": 10,
   "metadata": {},
   "outputs": [
    {
     "name": "stdout",
     "output_type": "stream",
     "text": [
      "2018-04-02 True\n",
      "2018-02-29 False\n",
      "2018-19-02 False\n"
     ]
    }
   ],
   "source": [
    "# Задание 3 - используем уже написанную функцию\n",
    "datelist = ['2018-04-02', '2018-02-29', '2018-19-02']\n",
    "for date in datelist:\n",
    "    print (date, datevalid(date))"
   ]
  },
  {
   "cell_type": "code",
   "execution_count": 19,
   "metadata": {},
   "outputs": [],
   "source": [
    "from calendar import monthrange"
   ]
  },
  {
   "cell_type": "code",
   "execution_count": 31,
   "metadata": {},
   "outputs": [],
   "source": [
    "# Задание 4\n",
    "\n",
    "def daysbefore (date):\n",
    "    if not datevalid(date):\n",
    "        return ('Wrong date')\n",
    "    datelist = []\n",
    "    end_dt=datetime.strptime(date,'%Y-%m-%d')\n",
    "    if end_dt.day == 1:\n",
    "        start_dt = end_dt-timedelta(days=1)\n",
    "        start_dt = start_dt.replace(day=1)\n",
    "        (a,b) = monthrange(start_dt.year, start_dt.month)\n",
    "        end_dt = start_dt\n",
    "        end_dt = end_dt.replace(day=b)\n",
    "    else:\n",
    "        start_dt = end_dt\n",
    "        start_dt = start_dt.replace(day=1)\n",
    "    running_dt = start_dt\n",
    "    while running_dt <= end_dt:\n",
    "        datelist.append(datetime.strftime(running_dt, '%Y-%m-%d'))\n",
    "        running_dt+=timedelta(days=1)\n",
    "    return(datelist)"
   ]
  },
  {
   "cell_type": "code",
   "execution_count": 32,
   "metadata": {},
   "outputs": [
    {
     "data": {
      "text/plain": [
       "['2018-03-01',\n",
       " '2018-03-02',\n",
       " '2018-03-03',\n",
       " '2018-03-04',\n",
       " '2018-03-05',\n",
       " '2018-03-06',\n",
       " '2018-03-07',\n",
       " '2018-03-08',\n",
       " '2018-03-09',\n",
       " '2018-03-10',\n",
       " '2018-03-11',\n",
       " '2018-03-12',\n",
       " '2018-03-13',\n",
       " '2018-03-14',\n",
       " '2018-03-15',\n",
       " '2018-03-16',\n",
       " '2018-03-17',\n",
       " '2018-03-18',\n",
       " '2018-03-19',\n",
       " '2018-03-20',\n",
       " '2018-03-21',\n",
       " '2018-03-22',\n",
       " '2018-03-23',\n",
       " '2018-03-24',\n",
       " '2018-03-25',\n",
       " '2018-03-26',\n",
       " '2018-03-27',\n",
       " '2018-03-28',\n",
       " '2018-03-29',\n",
       " '2018-03-30',\n",
       " '2018-03-31']"
      ]
     },
     "execution_count": 32,
     "metadata": {},
     "output_type": "execute_result"
    }
   ],
   "source": [
    "daysbefore ('2018-04-01')"
   ]
  },
  {
   "cell_type": "code",
   "execution_count": 33,
   "metadata": {},
   "outputs": [],
   "source": [
    "from datetime import date"
   ]
  },
  {
   "cell_type": "code",
   "execution_count": 50,
   "metadata": {},
   "outputs": [],
   "source": [
    "# Задание 5\n",
    "def exact_date(whatdoyouwant):\n",
    "    today=date.today()\n",
    "    if whatdoyouwant == 'today':\n",
    "        return (datetime.strftime(today, '%Y-%m-%d'))\n",
    "    elif whatdoyouwant == 'last monday':\n",
    "        res = today - timedelta(days=today.weekday())\n",
    "        return (datetime.strftime(res, '%Y-%m-%d'))\n",
    "    elif whatdoyouwant == 'last day':\n",
    "        (a,b) = monthrange(today.year, today.month)\n",
    "        res = today.replace(day=b)\n",
    "        return (datetime.strftime(res, '%Y-%m-%d'))\n",
    "    else:\n",
    "        return('I dont know that')"
   ]
  },
  {
   "cell_type": "code",
   "execution_count": 51,
   "metadata": {},
   "outputs": [
    {
     "data": {
      "text/plain": [
       "'2018-09-10'"
      ]
     },
     "execution_count": 51,
     "metadata": {},
     "output_type": "execute_result"
    }
   ],
   "source": [
    "exact_date('last monday')"
   ]
  },
  {
   "cell_type": "code",
   "execution_count": 69,
   "metadata": {},
   "outputs": [],
   "source": [
    "# Задание 6\n",
    "# Два варианта вывода - с одномерным и двумерным списком\n",
    "def findweeks(startdate, enddate, restype):\n",
    "    if not bothdatesvalid(startdate, enddate):\n",
    "        return ('Wrong dates')\n",
    "    datelist = []\n",
    "    datelist2 = []\n",
    "    start_dt=datetime.strptime(startdate,'%Y-%m-%d')\n",
    "    end_dt=datetime.strptime(enddate,'%Y-%m-%d')\n",
    "    if start_dt.weekday()!=0:\n",
    "        start_dt += timedelta(days=7-start_dt.weekday())\n",
    "    if end_dt.weekday()!=6:\n",
    "        end_dt -= timedelta(days=end_dt.weekday()+1) \n",
    "    running_dt = start_dt\n",
    "    weeks = -1\n",
    "    while running_dt <= end_dt:        \n",
    "        datelist.append(datetime.strftime(running_dt, '%Y-%m-%d')+' - '+str(running_dt.weekday()+1))\n",
    "        if running_dt.weekday() == 0:\n",
    "            datelist2.append([])\n",
    "            weeks+=1\n",
    "        datelist2[weeks].append(datetime.strftime(running_dt, '%Y-%m-%d'))\n",
    "        running_dt+=timedelta(days=1)\n",
    "    if restype  == 1:\n",
    "        return (datelist)\n",
    "    else:\n",
    "        return (datelist2)"
   ]
  },
  {
   "cell_type": "code",
   "execution_count": 72,
   "metadata": {},
   "outputs": [
    {
     "data": {
      "text/plain": [
       "[['2018-03-05',\n",
       "  '2018-03-06',\n",
       "  '2018-03-07',\n",
       "  '2018-03-08',\n",
       "  '2018-03-09',\n",
       "  '2018-03-10',\n",
       "  '2018-03-11'],\n",
       " ['2018-03-12',\n",
       "  '2018-03-13',\n",
       "  '2018-03-14',\n",
       "  '2018-03-15',\n",
       "  '2018-03-16',\n",
       "  '2018-03-17',\n",
       "  '2018-03-18'],\n",
       " ['2018-03-19',\n",
       "  '2018-03-20',\n",
       "  '2018-03-21',\n",
       "  '2018-03-22',\n",
       "  '2018-03-23',\n",
       "  '2018-03-24',\n",
       "  '2018-03-25']]"
      ]
     },
     "execution_count": 72,
     "metadata": {},
     "output_type": "execute_result"
    }
   ],
   "source": [
    "findweeks('2018-03-01', '2018-03-31', 2)"
   ]
  },
  {
   "cell_type": "code",
   "execution_count": null,
   "metadata": {},
   "outputs": [],
   "source": []
  }
 ],
 "metadata": {
  "kernelspec": {
   "display_name": "Python 3",
   "language": "python",
   "name": "python3"
  },
  "language_info": {
   "codemirror_mode": {
    "name": "ipython",
    "version": 3
   },
   "file_extension": ".py",
   "mimetype": "text/x-python",
   "name": "python",
   "nbconvert_exporter": "python",
   "pygments_lexer": "ipython3",
   "version": "3.6.5"
  }
 },
 "nbformat": 4,
 "nbformat_minor": 2
}
