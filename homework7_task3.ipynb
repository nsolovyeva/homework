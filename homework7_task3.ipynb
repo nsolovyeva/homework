{
 "cells": [
  {
   "cell_type": "code",
   "execution_count": 1,
   "metadata": {},
   "outputs": [],
   "source": [
    "import numpy as np\n",
    "from scipy import optimize"
   ]
  },
  {
   "cell_type": "code",
   "execution_count": 3,
   "metadata": {},
   "outputs": [],
   "source": [
    "def f(x):\n",
    "    return x[0]*x[3]*(x[0]+x[1]+x[2])+x[2]"
   ]
  },
  {
   "cell_type": "code",
   "execution_count": 10,
   "metadata": {},
   "outputs": [],
   "source": [
    "x0=(1,5,5,1) "
   ]
  },
  {
   "cell_type": "code",
   "execution_count": 11,
   "metadata": {},
   "outputs": [],
   "source": [
    "cons = ({'type': 'ineq', 'fun': lambda x: x[0] * x[1] * x[2] * x[3] >= 30},\n",
    "      {'type': 'eq', 'fun': lambda x: x[0]**2 + x[1]**2 + x[2]**2 + x[3]**2 == 60}\n",
    "       )"
   ]
  },
  {
   "cell_type": "code",
   "execution_count": 12,
   "metadata": {},
   "outputs": [],
   "source": [
    "b=(2.0, 6.0) \n",
    "bnd=(b,b,b,b)"
   ]
  },
  {
   "cell_type": "code",
   "execution_count": null,
   "metadata": {},
   "outputs": [],
   "source": [
    "# Копирую ваш код из слака - не работает, причем в двух местах. Пустой метод не воспринимается, и ограничения в таком виде тоже\n",
    "optimize.minimize(f, x0, method='', bounds=bnd, constraints=cons)"
   ]
  },
  {
   "cell_type": "code",
   "execution_count": 31,
   "metadata": {},
   "outputs": [],
   "source": [
    "# Переписываю ограничения как было в руководстве (в чем собственно и заключался мой вопрос),\n",
    "# убирая все в левую часть. Так работает, но знак в первом неравенстве неясен. \n",
    "# Однако других идей нет, так как экспериментировать с черным ящиком, не понимая механизма его работы - не очень интересно\n",
    "cons = ({'type': 'ineq', 'fun': lambda x: x[0] * x[1] * x[2] * x[3] - 30},\n",
    "      {'type': 'eq', 'fun': lambda x: x[0]**2 + x[1]**2 + x[2]**2 + x[3]**2 - 60}\n",
    "       )"
   ]
  },
  {
   "cell_type": "code",
   "execution_count": 33,
   "metadata": {},
   "outputs": [
    {
     "data": {
      "text/plain": [
       "     fun: 52.00000009701402\n",
       "     jac: array([28.,  4.,  5., 24.])\n",
       " message: 'Optimization terminated successfully.'\n",
       "    nfev: 30\n",
       "     nit: 5\n",
       "    njev: 5\n",
       "  status: 0\n",
       " success: True\n",
       "       x: array([2.        , 6.        , 4.00000002, 2.        ])"
      ]
     },
     "execution_count": 33,
     "metadata": {},
     "output_type": "execute_result"
    }
   ],
   "source": [
    "optimize.minimize(f, x0, bounds=bnd, constraints=cons)"
   ]
  },
  {
   "cell_type": "code",
   "execution_count": null,
   "metadata": {},
   "outputs": [],
   "source": []
  }
 ],
 "metadata": {
  "kernelspec": {
   "display_name": "Python 3",
   "language": "python",
   "name": "python3"
  },
  "language_info": {
   "codemirror_mode": {
    "name": "ipython",
    "version": 3
   },
   "file_extension": ".py",
   "mimetype": "text/x-python",
   "name": "python",
   "nbconvert_exporter": "python",
   "pygments_lexer": "ipython3",
   "version": "3.6.5"
  }
 },
 "nbformat": 4,
 "nbformat_minor": 2
}
