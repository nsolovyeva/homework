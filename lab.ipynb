{
 "cells": [
  {
   "cell_type": "code",
   "execution_count": 1,
   "metadata": {},
   "outputs": [],
   "source": [
    "#Задание 1\n",
    "list = [1,2,3,46,5,7,25,3,78]"
   ]
  },
  {
   "cell_type": "code",
   "execution_count": 5,
   "metadata": {},
   "outputs": [
    {
     "data": {
      "text/plain": [
       "149"
      ]
     },
     "execution_count": 5,
     "metadata": {},
     "output_type": "execute_result"
    }
   ],
   "source": [
    "sum([x for x in list if x>10])"
   ]
  },
  {
   "cell_type": "code",
   "execution_count": 6,
   "metadata": {},
   "outputs": [],
   "source": [
    "#Задание 2\n",
    "list = ['qwerty', 'saqwer', 'fuytr','b1f try', 'my 123 r', 'RRRRR']"
   ]
  },
  {
   "cell_type": "code",
   "execution_count": 7,
   "metadata": {},
   "outputs": [
    {
     "data": {
      "text/plain": [
       "['saqwer', 'fuytr', 'my 123 r']"
      ]
     },
     "execution_count": 7,
     "metadata": {},
     "output_type": "execute_result"
    }
   ],
   "source": [
    "[x for x in list if x[-1]=='r']"
   ]
  },
  {
   "cell_type": "code",
   "execution_count": 8,
   "metadata": {},
   "outputs": [],
   "source": [
    "# Задание 3\n",
    "import random"
   ]
  },
  {
   "cell_type": "code",
   "execution_count": 14,
   "metadata": {},
   "outputs": [
    {
     "data": {
      "text/plain": [
       "'826735'"
      ]
     },
     "execution_count": 14,
     "metadata": {},
     "output_type": "execute_result"
    }
   ],
   "source": [
    "x = ''\n",
    "for i in range(0,6):\n",
    "    x1 = random.randint(0,9)\n",
    "    x += str(x1)\n",
    "if not '3' in x:\n",
    "    i = random.randint(1,4)\n",
    "    x = x[0:i-1] + '3' + x[i+1:] \n",
    "x"
   ]
  },
  {
   "cell_type": "code",
   "execution_count": 16,
   "metadata": {},
   "outputs": [
    {
     "data": {
      "text/plain": [
       "(58, 8)"
      ]
     },
     "execution_count": 16,
     "metadata": {},
     "output_type": "execute_result"
    }
   ],
   "source": [
    "# Задание 4\n",
    "s = 'Это строка произвольной длины из какого-то количества слов'\n",
    "len(s), len(s.split(' '))"
   ]
  },
  {
   "cell_type": "code",
   "execution_count": 33,
   "metadata": {},
   "outputs": [
    {
     "name": "stdout",
     "output_type": "stream",
     "text": [
      "Это список\n",
      "[[64, 35, 96, 89, 42, 54], [95, 44, 26, 78, 93, 10], [87, 1, 95, 13, 94, 19], [55, 14, 38, 93, 52, 87], [72, 84, 63, 80, 73, 80], [27, 9, 57, 54, 72, 13]]\n",
      "Такой вариант вывода читабельнее\n",
      "[64, 35, 96, 89, 42, 54]\n",
      "[95, 44, 26, 78, 93, 10]\n",
      "[87, 1, 95, 13, 94, 19]\n",
      "[55, 14, 38, 93, 52, 87]\n",
      "[72, 84, 63, 80, 73, 80]\n",
      "[27, 9, 57, 54, 72, 13]\n",
      "Сумма элементов списка  2058\n"
     ]
    }
   ],
   "source": [
    "# Задание 5\n",
    "a = []\n",
    "N = 6 \n",
    "for r in range(N):  \n",
    "    a.append([])  \n",
    "    for c in range(N):  \n",
    "        a[r].append(random.randint(0,99))  \n",
    "\n",
    "print ('Это список')\n",
    "print (a)\n",
    "print ('Такой вариант вывода читабельнее')\n",
    "for r in a:\n",
    "    print (r)\n",
    "print('Сумма элементов списка ',sum(map(sum, a)))"
   ]
  },
  {
   "cell_type": "code",
   "execution_count": 18,
   "metadata": {},
   "outputs": [],
   "source": [
    "# Задание 6\n",
    "list = [[1, 'Иванов', 25, '1'],[2, 'Петров', 18, '1'],[3, 'Cидорова', 20, '2']]"
   ]
  },
  {
   "cell_type": "code",
   "execution_count": 19,
   "metadata": {},
   "outputs": [
    {
     "data": {
      "text/plain": [
       "{1: ['Иванов', 25, 1], 2: ['Петров', 18, 1], 3: ['Cидорова', 20, 2]}"
      ]
     },
     "execution_count": 19,
     "metadata": {},
     "output_type": "execute_result"
    }
   ],
   "source": [
    "dic = {}\n",
    "for student in list:\n",
    "    first, *other = student\n",
    "    dic[first] = other\n",
    "dic"
   ]
  },
  {
   "cell_type": "code",
   "execution_count": 20,
   "metadata": {},
   "outputs": [
    {
     "name": "stdout",
     "output_type": "stream",
     "text": [
      "Иванов\n",
      "2\n"
     ]
    }
   ],
   "source": [
    "# Задание 7\n",
    "fio = input()\n",
    "newgroup = input()"
   ]
  },
  {
   "cell_type": "code",
   "execution_count": 22,
   "metadata": {},
   "outputs": [
    {
     "data": {
      "text/plain": [
       "{1: ['Иванов', 25, '2'], 2: ['Петров', 18, 1], 3: ['Cидорова', 20, 2]}"
      ]
     },
     "execution_count": 22,
     "metadata": {},
     "output_type": "execute_result"
    }
   ],
   "source": [
    "for student in dic.values():\n",
    "    if student[0] == fio:\n",
    "        student[2] = newgroup\n",
    "dic"
   ]
  },
  {
   "cell_type": "code",
   "execution_count": 26,
   "metadata": {},
   "outputs": [
    {
     "name": "stdout",
     "output_type": "stream",
     "text": [
      "7\n"
     ]
    }
   ],
   "source": [
    "# Задание 8\n",
    "import os, os.path\n",
    "\n",
    "dirname = '/Users/nsolovyeva/Documents/githomework'\n",
    "print (len([name for name in os.listdir(dirname) if os.path.isfile(os.path.join(dirname, name))]))"
   ]
  },
  {
   "cell_type": "code",
   "execution_count": null,
   "metadata": {},
   "outputs": [],
   "source": []
  }
 ],
 "metadata": {
  "kernelspec": {
   "display_name": "Python 3",
   "language": "python",
   "name": "python3"
  },
  "language_info": {
   "codemirror_mode": {
    "name": "ipython",
    "version": 3
   },
   "file_extension": ".py",
   "mimetype": "text/x-python",
   "name": "python",
   "nbconvert_exporter": "python",
   "pygments_lexer": "ipython3",
   "version": "3.6.5"
  }
 },
 "nbformat": 4,
 "nbformat_minor": 2
}
